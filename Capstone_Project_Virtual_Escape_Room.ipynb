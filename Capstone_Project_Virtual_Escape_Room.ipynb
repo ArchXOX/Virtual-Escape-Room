{
  "nbformat": 4,
  "nbformat_minor": 0,
  "metadata": {
    "colab": {
      "provenance": [],
      "include_colab_link": true
    },
    "kernelspec": {
      "name": "python3",
      "display_name": "Python 3"
    },
    "language_info": {
      "name": "python"
    }
  },
  "cells": [
    {
      "cell_type": "markdown",
      "metadata": {
        "id": "view-in-github",
        "colab_type": "text"
      },
      "source": [
        "<a href=\"https://colab.research.google.com/github/ArchXOX/Virtual-Escape-Room/blob/main/Capstone_Project_Virtual_Escape_Room.ipynb\" target=\"_parent\"><img src=\"https://colab.research.google.com/assets/colab-badge.svg\" alt=\"Open In Colab\"/></a>"
      ]
    },
    {
      "cell_type": "code",
      "execution_count": null,
      "metadata": {
        "id": "hQP3DnOVRBZr"
      },
      "outputs": [],
      "source": [
        "puzzles = [\n",
        "    {\n",
        "        'type': 'riddle',\n",
        "        'question': 'What has keys but can\\'t open locks?',\n",
        "        'solution': 'piano',\n",
        "        'story': 'You find a hidden key inside the piano that opens a secret door.'\n",
        "    },\n",
        "    {\n",
        "        'type': 'code',\n",
        "        'question': 'Decrypt this message: \"Wklv phvvdjh lv hqfubswhg xvlqj Fdhvdu flskhu.\"',\n",
        "        'solution': 'This message is encrypted using Caesar cipher',\n",
        "        'story': 'The decrypted message reveals a clue about a hidden safe in Mr. White\\'s office.'\n",
        "    },\n",
        "    {\n",
        "        'type': 'pattern',\n",
        "        'question': 'What comes next in the sequence? 2, 4, 8, 16, ...',\n",
        "        'solution': '32',\n",
        "        'story': 'Entering the correct number into a keypad unlocks a mysterious box containing a crucial piece of evidence.'\n",
        "    },\n",
        "    {\n",
        "        'type': 'riddle',\n",
        "        'question': 'What has a head, a tail, but does not have a body?',\n",
        "        'solution': 'coin',\n",
        "        'story': 'You find an old coin which reveals the year when the mansion was built.'\n",
        "    },\n",
        "    {\n",
        "        'type': 'code',\n",
        "        'question': 'Decrypt this message using the reversed alphabet: \"Gsv xzhrmt yvhg zm gsv xlnnkzmzoob.\"',\n",
        "        'solution': 'The secret lies at the mysterious door',\n",
        "        'story': 'A mysterious door is discovered, leading to a hidden room.'\n",
        "    },\n",
        "    {\n",
        "        'type': 'pattern',\n",
        "        'question': 'What comes next in the sequence? 1, 1, 2, 3, 5, ...',\n",
        "        'solution': '8',\n",
        "        'story': 'The correct number reveals the number of steps to take in a secret passage.'\n",
        "    },\n",
        "    {\n",
        "        'type': 'riddle',\n",
        "        'question': 'What is always in front of you but can’t be seen?',\n",
        "        'solution': 'future',\n",
        "        'story': 'A painting of Mr. White reveals a hidden message about his plans.'\n",
        "    },\n",
        "    {\n",
        "        'type': 'code',\n",
        "        'question': 'Decode this Morse code: \".- / --. .... --- ... -\"',\n",
        "        'solution': 'A ghost',\n",
        "        'story': 'A hidden diary tells a story about a ghost haunting the mansion.'\n",
        "    },\n",
        "    {\n",
        "        'type': 'pattern',\n",
        "        'question': 'What comes next in the sequence? 3, 6, 12, 24, ...',\n",
        "        'solution': '48',\n",
        "        'story': 'Entering the correct number into a lock reveals a hidden chamber.'\n",
        "    },\n",
        "    {\n",
        "        'type': 'riddle',\n",
        "        'question': 'What can you hold in your left hand but not in your right?',\n",
        "        'solution': 'your right elbow',\n",
        "        'story': 'Discovering a hidden lever shaped like an elbow, you open a secret compartment.'\n",
        "    }\n",
        "]"
      ]
    },
    {
      "cell_type": "code",
      "source": [
        "# Welcome message and story\n",
        "print(\"Welcome to the Story-driven Virtual Escape Room!\")\n",
        "print(\"You are a detective trying to solve a mysterious disappearance.\")\n",
        "print(\"A wealthy businessman, Mr. White, has vanished from his mansion.\")\n",
        "print(\"Explore the mansion, discover hidden clues, and solve puzzles to unravel the mystery and find Mr. White.\")\n",
        "print(\"You have 5 minutes to complete all puzzles. Good luck!\\n\")"
      ],
      "metadata": {
        "id": "oQ_KN4Ytmn7G",
        "colab": {
          "base_uri": "https://localhost:8080/"
        },
        "outputId": "5fed677e-83cb-4f97-e1b9-735d35d3b244"
      },
      "execution_count": null,
      "outputs": [
        {
          "output_type": "stream",
          "name": "stdout",
          "text": [
            "Welcome to the Story-driven Virtual Escape Room!\n",
            "You are a detective trying to solve a mysterious disappearance.\n",
            "A wealthy businessman, Mr. White, has vanished from his mansion.\n",
            "Explore the mansion, discover hidden clues, and solve puzzles to unravel the mystery and find Mr. White.\n",
            "You have 5 minutes to complete all puzzles. Good luck!\n",
            "\n"
          ]
        }
      ]
    },
    {
      "cell_type": "code",
      "source": [
        "\n",
        "\n",
        "def welcome():\n",
        "  # Welcome message and story\n",
        "  print(\"Welcome to the Story-driven Virtual Escape Room!\")\n",
        "  print(\"You are a detective trying to solve a mysterious disappearance.\")\n",
        "  print(\"A wealthy businessman, Mr. White, has vanished from his mansion.\")\n",
        "  print(\"Explore the mansion, discover hidden clues, and solve puzzles to unravel the mystery and find Mr. White.\")\n",
        "  print(\"You have 5 minutes to complete all puzzles. Good luck!\\n\")"
      ],
      "metadata": {
        "id": "QfpKkOZGBewb"
      },
      "execution_count": null,
      "outputs": []
    },
    {
      "cell_type": "code",
      "source": [
        "import time\n",
        "import random\n",
        "\n",
        "\n",
        "def play_puzzle(puzzle,time_limit):\n",
        "  is_correct=False\n",
        "  while not is_correct:\n",
        "    #Give the question\n",
        "    print(puzzle['question'])\n",
        "    #User's answer\n",
        "    user_input=input(\"What is your answer? : \")\n",
        "    #Actual solution\n",
        "    solution=puzzle['solution']\n",
        "    #Check\n",
        "    is_correct=solution.lower()==user_input.lower()\n",
        "\n",
        "    if is_correct:\n",
        "      print(\"Correct answer!\")\n",
        "      print(f\"Story-time : {puzzle['story']}\\n\")\n",
        "    else:\n",
        "      print(\"Incorrect. Try again\")\n",
        "      time_limit-=50\n",
        "  return time_limit\n",
        "\n",
        "#play_puzzle(puzzles)\n",
        "\n",
        "def play_escape_room(time_limit):\n",
        "  #Start the timer\n",
        "  start_time=time.time()\n",
        "\n",
        "  #Welcome message\n",
        "  welcome()\n",
        "\n",
        "  #Shuffle the puzzle list\n",
        "  random.shuffle(puzzles)\n",
        "  num_of_puzzles=len(puzzles)\n",
        "  solved_puzzles=0\n",
        "\n",
        "  #Iterate through the list of puzzles and sue the function - Play Puzzle\n",
        "  for puzzle in puzzles:\n",
        "    time_limit=play_puzzle(puzzle,time_limit)\n",
        "    solved_puzzles+=1\n",
        "\n",
        "    #Ending the puzzle on completion of time alloted\n",
        "    time_spent=time.time()-start_time\n",
        "    if time_spent>time_limit:\n",
        "      print(\"Time's up! Game has not been completed.\")\n",
        "      return\n",
        "    else:\n",
        "      print(f'You have {round(time_limit-time_spent)} seconds left')\n",
        "\n",
        "  #Winning condition\n",
        "  if solved_puzzles==num_of_puzzles:\n",
        "    print(f\"Congratulations! You have escaped the room in {round(time_limit-time_spent)} seconds!\")\n"
      ],
      "metadata": {
        "id": "Wk43il7OAm7r"
      },
      "execution_count": null,
      "outputs": []
    },
    {
      "cell_type": "code",
      "source": [
        "play_escape_room(300)"
      ],
      "metadata": {
        "colab": {
          "base_uri": "https://localhost:8080/"
        },
        "id": "HQsIT71PaBV5",
        "outputId": "648d7394-ed02-4bf1-fb2c-5872cc83d013"
      },
      "execution_count": null,
      "outputs": [
        {
          "output_type": "stream",
          "name": "stdout",
          "text": [
            "Welcome to the Story-driven Virtual Escape Room!\n",
            "You are a detective trying to solve a mysterious disappearance.\n",
            "A wealthy businessman, Mr. White, has vanished from his mansion.\n",
            "Explore the mansion, discover hidden clues, and solve puzzles to unravel the mystery and find Mr. White.\n",
            "You have 5 minutes to complete all puzzles. Good luck!\n",
            "\n",
            "What has keys but can't open locks?\n",
            "What is your answer? : keyboard\n",
            "Incorrect. Try again\n",
            "What has keys but can't open locks?\n",
            "What is your answer? : paino\n",
            "Incorrect. Try again\n",
            "What has keys but can't open locks?\n",
            "What is your answer? : piano\n",
            "Correct answer!\n",
            "Story-time : You find a hidden key inside the piano that opens a secret door.\n",
            "\n",
            "You have 152 seconds left\n",
            "What comes next in the sequence? 1, 1, 2, 3, 5, ...\n",
            "What is your answer? : 6\n",
            "Incorrect. Try again\n",
            "What comes next in the sequence? 1, 1, 2, 3, 5, ...\n",
            "What is your answer? : 8\n",
            "Correct answer!\n",
            "Story-time : The correct number reveals the number of steps to take in a secret passage.\n",
            "\n",
            "You have 66 seconds left\n",
            "Decrypt this message: \"Wklv phvvdjh lv hqfubswhg xvlqj Fdhvdu flskhu.\"\n",
            "What is your answer? : This Message is encrypted using caesar cipher\n",
            "Correct answer!\n",
            "Story-time : The decrypted message reveals a clue about a hidden safe in Mr. White's office.\n",
            "\n",
            "You have 10 seconds left\n",
            "Decrypt this message using the reversed alphabet: \"Gsv xzhrmt yvhg zm gsv xlnnkzmzoob.\"\n",
            "What is your answer? : the secret lies at the mysterious door\n",
            "Correct answer!\n",
            "Story-time : A mysterious door is discovered, leading to a hidden room.\n",
            "\n",
            "Time's up! Game has not been completed.\n"
          ]
        }
      ]
    }
  ]
}